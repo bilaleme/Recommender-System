{
 "cells": [
  {
   "cell_type": "code",
   "execution_count": 1,
   "metadata": {},
   "outputs": [
    {
     "name": "stderr",
     "output_type": "stream",
     "text": [
      "d:\\python-installed\\lib\\site-packages\\statsmodels\\compat\\pandas.py:56: FutureWarning: The pandas.core.datetools module is deprecated and will be removed in a future version. Please use the pandas.tseries module instead.\n",
      "  from pandas.core import datetools\n"
     ]
    }
   ],
   "source": [
    "import pandas as pd\n",
    "import numpy as np\n",
    "import random as rnd\n",
    "import matplotlib.pyplot as plt\n",
    "import scipy\n",
    "import math\n",
    "from scipy import stats\n",
    "stats.chisqprob = lambda chisq, df: stats.chi2.sf(chisq,df)\n",
    "import statsmodels.api as sm"
   ]
  },
  {
   "cell_type": "code",
   "execution_count": 2,
   "metadata": {},
   "outputs": [],
   "source": [
    "AirQualityCat = ['air-qual-good','air-qual-moderate','air-qual-unhealthy','air-qual-hazardous']\n",
    "WeatherCat = ['weather-rainy','weather-stormy','weather-sunny','weather-cloudy','weather-hot','weather-cold','weather-dry','weather-wet','weather-windy','weather-snow']\n",
    "TrafficCat = ['traffic-low','traffic-moderate','traffic-high','traffic-worse']\n",
    "DayPartCat = ['dt-early-morning','dt-morning','dt-noon','dt-afternoon','dt-night','dt-late-night']\n",
    "BikeLanesCat = ['bl-none','bl-partial','bl-full']\n",
    "TemperatureCat = ['t-0-10','t-10-14','t-14-18','t-18-21','t-21-25','t-25-30','t-30-40','t-40-60','t-60-80','t-80-100']\n",
    "ModesCat = ['mode-car','mode-transit','mode-bike','mode-mt-bike','mode-walk']"
   ]
  },
  {
   "cell_type": "code",
   "execution_count": 49,
   "metadata": {},
   "outputs": [],
   "source": [
    "CatCombined = []\n",
    "CatCombined.extend(AirQualityCat)\n",
    "CatCombined.extend(WeatherCat)\n",
    "CatCombined.extend(TrafficCat)\n",
    "CatCombined.extend(DayPartCat)\n",
    "CatCombined.extend(BikeLanesCat)\n",
    "CatCombined.extend(TemperatureCat)"
   ]
  },
  {
   "cell_type": "code",
   "execution_count": 50,
   "metadata": {},
   "outputs": [],
   "source": [
    "IndCombined = []\n",
    "IndCombined.extend(CatCombined)\n",
    "CatCombined.extend(ModesCat)"
   ]
  },
  {
   "cell_type": "code",
   "execution_count": 51,
   "metadata": {},
   "outputs": [],
   "source": [
    "\n",
    "def ConvertTemperature(intValue,tempCategories):\n",
    "    outArr = [0]*len(tempCategories)\n",
    "    myVal = math.floor(intValue/len(tempCategories) - 1)\n",
    "    outArr[myVal] = 1\n",
    "    return outArr\n",
    "\n",
    "def ConvertAirQuality(intValue,aqCategories):\n",
    "    outArr = [0]*len(aqCategories)\n",
    "    myVal = math.ceil((intValue / 2.5) - 1)\n",
    "    outArr[myVal] = 1\n",
    "    return outArr\n",
    "    "
   ]
  },
  {
   "cell_type": "code",
   "execution_count": 62,
   "metadata": {
    "scrolled": true
   },
   "outputs": [
    {
     "name": "stdout",
     "output_type": "stream",
     "text": [
      "                    mode-car  mode-transit  mode-bike  mode-mt-bike  mode-walk\n",
      "air-qual-good          301.0         231.0      341.0         481.0      501.0\n",
      "air-qual-moderate      681.0         401.0      601.0         941.0      421.0\n",
      "air-qual-unhealthy     481.0         611.0      481.0         311.0      841.0\n",
      "air-qual-hazardous     761.0         631.0     1051.0         561.0      841.0\n",
      "weather-rainy          501.0         261.0      251.0         211.0      181.0\n",
      "weather-stormy         341.0         231.0      431.0         221.0      321.0\n",
      "weather-sunny          331.0          61.0       61.0         351.0      261.0\n",
      "weather-cloudy         431.0         221.0      201.0         291.0      511.0\n",
      "weather-hot            141.0         361.0      331.0         271.0      501.0\n",
      "weather-cold           181.0         341.0      311.0         291.0      181.0\n",
      "weather-dry            111.0          61.0      491.0         421.0      301.0\n",
      "weather-wet            191.0         341.0      401.0         241.0      351.0\n",
      "weather-windy            1.0           1.0        1.0           1.0        1.0\n",
      "weather-snow             1.0           1.0        1.0           1.0        1.0\n",
      "traffic-low            581.0         261.0      621.0         731.0     1211.0\n",
      "traffic-moderate       521.0         441.0      621.0         571.0      231.0\n",
      "traffic-high           521.0         481.0      391.0         431.0      381.0\n",
      "traffic-worse          601.0         691.0      841.0         561.0      781.0\n",
      "dt-early-morning       341.0         231.0      491.0         331.0      221.0\n",
      "dt-morning             361.0         321.0      591.0         371.0      571.0\n",
      "dt-noon                371.0         251.0      181.0         401.0      451.0\n",
      "dt-afternoon           421.0         631.0      271.0         301.0      521.0\n",
      "dt-night               431.0         191.0      351.0         631.0      311.0\n",
      "dt-late-night          301.0         251.0      591.0         261.0      531.0\n",
      "bl-none                761.0         341.0      851.0         651.0      601.0\n",
      "bl-partial             851.0         871.0      781.0         751.0      971.0\n",
      "bl-full                611.0         661.0      841.0         891.0     1031.0\n",
      "t-0-10                 461.0         231.0      231.0         401.0      221.0\n",
      "t-10-14                161.0         221.0      191.0         151.0      191.0\n",
      "t-14-18                241.0         321.0      381.0         141.0      191.0\n",
      "t-18-21                421.0          11.0        1.0         101.0      521.0\n",
      "t-21-25                 41.0         301.0      221.0         301.0        1.0\n",
      "t-25-30                131.0         381.0      281.0         431.0      171.0\n",
      "t-30-40                 91.0         141.0      131.0          21.0      551.0\n",
      "t-40-60                391.0           1.0      181.0         361.0      221.0\n",
      "t-60-80                 71.0         141.0      361.0         101.0      291.0\n",
      "t-80-100               221.0         131.0      501.0         291.0      251.0\n"
     ]
    }
   ],
   "source": [
    "xFile = pd.ExcelFile('data.xlsx')\n",
    "df = xFile.parse('data')\n",
    "dataArr = np.ones((len(IndCombined),len(ModesCat)))\n",
    "for i in range(len(df.index)):\n",
    "    freshVal = int(df.iloc[i]['Freshness'])\n",
    "    freshVal = freshVal * 10\n",
    "    tAirQual = ConvertAirQuality(int(df.iloc[i]['air-quality']),AirQualityCat)\n",
    "    tWeather = df.iloc[i]['weather']\n",
    "    tTraffic = df.iloc[i]['traffic']\n",
    "    tDayTime = df.iloc[i]['day-time']\n",
    "    tBikeLanes = df.iloc[i]['bike-lane']\n",
    "    tTemperature = ConvertTemperature(int(df.iloc[i]['temperature']),TemperatureCat)\n",
    "    tMode = df.iloc[i]['mode']\n",
    "    tModeIndex = ModesCat.index(tMode);\n",
    "    tAirQualIndex = tAirQual.index(1)\n",
    "    tWeatherIndex = IndCombined.index(tWeather)\n",
    "    tTrafficIndex = IndCombined.index(tTraffic)\n",
    "    tDayTimeIndex = IndCombined.index(tDayTime)\n",
    "    tBikeLanesIndex = IndCombined.index(tBikeLanes)\n",
    "    \n",
    "    dataArr[tAirQualIndex][tModeIndex] = freshVal + dataArr[tAirQualIndex][tModeIndex]\n",
    "    dataArr[tWeatherIndex][tModeIndex] = freshVal + dataArr[tWeatherIndex][tModeIndex]\n",
    "    dataArr[tTrafficIndex][tModeIndex] = freshVal + dataArr[tTrafficIndex][tModeIndex]\n",
    "    dataArr[tDayTimeIndex][tModeIndex] = freshVal + dataArr[tDayTimeIndex][tModeIndex]\n",
    "    dataArr[tBikeLanesIndex][tModeIndex] = freshVal + dataArr[tBikeLanesIndex][tModeIndex]\n",
    "    dataArr[-len(TemperatureCat) + tTemperature.index(1)][tModeIndex] = freshVal + dataArr[-len(TemperatureCat) + tTemperature.index(1)][tModeIndex]\n",
    "    \n",
    "mydf = pd.DataFrame(dataArr,index=IndCombined,columns=ModesCat)\n",
    "    \n",
    "print(mydf)\n",
    "\n"
   ]
  },
  {
   "cell_type": "code",
   "execution_count": 48,
   "metadata": {},
   "outputs": [
    {
     "data": {
      "text/plain": [
       "42"
      ]
     },
     "execution_count": 48,
     "metadata": {},
     "output_type": "execute_result"
    }
   ],
   "source": [
    "len(dataArr)"
   ]
  },
  {
   "cell_type": "code",
   "execution_count": null,
   "metadata": {},
   "outputs": [],
   "source": [
    "def ConvertTemperature(intValue,tempCategories):\n",
    "    outArr = [0]*len(tempCategories)\n",
    "    myVal = math.floor(intValue/len(tempCategories))\n",
    "    outArr[myVal] = 1\n",
    "    return outArr"
   ]
  },
  {
   "cell_type": "code",
   "execution_count": null,
   "metadata": {},
   "outputs": [],
   "source": [
    "ConvertTemperature(99,TemperatureCat)"
   ]
  },
  {
   "cell_type": "code",
   "execution_count": null,
   "metadata": {},
   "outputs": [],
   "source": [
    "def ConvertAirQuality(intValue,aqCategories):\n",
    "    outArr = [0]*len(aqCategories)\n",
    "    myVal = math.ceil((intValue / 2.5) - 1)\n",
    "    outArr[myVal] = 1\n",
    "    return outArr"
   ]
  },
  {
   "cell_type": "code",
   "execution_count": null,
   "metadata": {},
   "outputs": [],
   "source": [
    "ConvertAirQuality(6,AirQualityCat)"
   ]
  },
  {
   "cell_type": "code",
   "execution_count": null,
   "metadata": {},
   "outputs": [],
   "source": []
  }
 ],
 "metadata": {
  "kernelspec": {
   "display_name": "Python 3",
   "language": "python",
   "name": "python3"
  },
  "language_info": {
   "codemirror_mode": {
    "name": "ipython",
    "version": 3
   },
   "file_extension": ".py",
   "mimetype": "text/x-python",
   "name": "python",
   "nbconvert_exporter": "python",
   "pygments_lexer": "ipython3",
   "version": "3.5.3"
  }
 },
 "nbformat": 4,
 "nbformat_minor": 2
}
