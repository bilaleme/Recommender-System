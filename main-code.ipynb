{
 "cells": [
  {
   "cell_type": "code",
   "execution_count": 1,
   "metadata": {},
   "outputs": [
    {
     "name": "stderr",
     "output_type": "stream",
     "text": [
      "d:\\python-installed\\lib\\site-packages\\statsmodels\\compat\\pandas.py:56: FutureWarning: The pandas.core.datetools module is deprecated and will be removed in a future version. Please use the pandas.tseries module instead.\n",
      "  from pandas.core import datetools\n"
     ]
    }
   ],
   "source": [
    "import pandas as pd\n",
    "import numpy as np\n",
    "import random as rnd\n",
    "import matplotlib.pyplot as plt\n",
    "import scipy\n",
    "import math\n",
    "from scipy import stats\n",
    "stats.chisqprob = lambda chisq, df: stats.chi2.sf(chisq,df)\n",
    "import statsmodels.api as sm"
   ]
  },
  {
   "cell_type": "code",
   "execution_count": 2,
   "metadata": {},
   "outputs": [],
   "source": [
    "AirQualityCat = ['air-qual-good','air-qual-moderate','air-qual-unhealthy','air-qual-hazardous']\n",
    "WeatherCat = ['weather-rainy','weather-stormy','weather-sunny','weather-cloudy','weather-hot','weather-cold','weather-dry','weather-wet','weather-windy','weather-snow']\n",
    "TrafficCat = ['traffic-low','traffic-moderate','traffic-high','traffic-worse']\n",
    "DayPartCat = ['dt-early-morning','dt-morning','dt-noon','dt-afternoon','dt-night','dt-late-night']\n",
    "BikeLanesCat = ['bl-none','bl-partial','bl-full']\n",
    "TemperatureCat = ['t-0-10','t-10-14','t-14-18','t-18-21','t-21-25','t-25-30','t-30-40','t-40-60','t-60-80','t-80-100']\n",
    "ModesCat = ['mode-car','mode-transit','mode-bike','mode-mt-bike','mode-walk']"
   ]
  },
  {
   "cell_type": "code",
   "execution_count": 49,
   "metadata": {},
   "outputs": [],
   "source": [
    "CatCombined = []\n",
    "CatCombined.extend(AirQualityCat)\n",
    "CatCombined.extend(WeatherCat)\n",
    "CatCombined.extend(TrafficCat)\n",
    "CatCombined.extend(DayPartCat)\n",
    "CatCombined.extend(BikeLanesCat)\n",
    "CatCombined.extend(TemperatureCat)"
   ]
  },
  {
   "cell_type": "code",
   "execution_count": 50,
   "metadata": {},
   "outputs": [],
   "source": [
    "IndCombined = []\n",
    "IndCombined.extend(CatCombined)\n",
    "CatCombined.extend(ModesCat)"
   ]
  },
  {
   "cell_type": "code",
   "execution_count": 51,
   "metadata": {},
   "outputs": [],
   "source": [
    "\n",
    "def ConvertTemperature(intValue,tempCategories):\n",
    "    outArr = [0]*len(tempCategories)\n",
    "    myVal = math.floor(intValue/len(tempCategories) - 1)\n",
    "    outArr[myVal] = 1\n",
    "    return outArr\n",
    "\n",
    "def ConvertAirQuality(intValue,aqCategories):\n",
    "    outArr = [0]*len(aqCategories)\n",
    "    myVal = math.ceil((intValue / 2.5) - 1)\n",
    "    outArr[myVal] = 1\n",
    "    return outArr\n",
    "    "
   ]
  },
  {
   "cell_type": "code",
   "execution_count": 59,
   "metadata": {
    "scrolled": true
   },
   "outputs": [
    {
     "name": "stdout",
     "output_type": "stream",
     "text": [
      "[['air-qual-good'], ['air-qual-moderate'], ['air-qual-unhealthy'], ['air-qual-hazardous'], ['weather-rainy'], ['weather-stormy'], ['weather-sunny'], ['weather-cloudy'], ['weather-hot'], ['weather-cold'], ['weather-dry'], ['weather-wet'], ['weather-windy'], ['weather-snow'], ['traffic-low'], ['traffic-moderate'], ['traffic-high'], ['traffic-worse'], ['dt-early-morning'], ['dt-morning'], ['dt-noon'], ['dt-afternoon'], ['dt-night'], ['dt-late-night'], ['bl-none'], ['bl-partial'], ['bl-full'], ['t-0-10'], ['t-10-14'], ['t-14-18'], ['t-18-21'], ['t-21-25'], ['t-25-30'], ['t-30-40'], ['t-40-60'], ['t-60-80'], ['t-80-100']]\n"
     ]
    },
    {
     "ename": "TypeError",
     "evalue": "crosstab() got multiple values for argument 'index'",
     "output_type": "error",
     "traceback": [
      "\u001b[1;31m---------------------------------------------------------------------------\u001b[0m",
      "\u001b[1;31mTypeError\u001b[0m                                 Traceback (most recent call last)",
      "\u001b[1;32m<ipython-input-59-6c052d79c985>\u001b[0m in \u001b[0;36m<module>\u001b[1;34m()\u001b[0m\n\u001b[0;32m     31\u001b[0m \u001b[1;33m\u001b[0m\u001b[0m\n\u001b[0;32m     32\u001b[0m \u001b[0mprint\u001b[0m\u001b[1;33m(\u001b[0m\u001b[0mvert\u001b[0m\u001b[1;33m)\u001b[0m\u001b[1;33m\u001b[0m\u001b[0m\n\u001b[1;32m---> 33\u001b[1;33m \u001b[0mcr_tab\u001b[0m \u001b[1;33m=\u001b[0m \u001b[0mpd\u001b[0m\u001b[1;33m.\u001b[0m\u001b[0mcrosstab\u001b[0m\u001b[1;33m(\u001b[0m\u001b[0mdataArr\u001b[0m\u001b[1;33m,\u001b[0m\u001b[0mindex\u001b[0m\u001b[1;33m=\u001b[0m\u001b[0mvert\u001b[0m\u001b[1;33m,\u001b[0m\u001b[0mcolumns\u001b[0m\u001b[1;33m=\u001b[0m\u001b[0mModesCat\u001b[0m\u001b[1;33m)\u001b[0m\u001b[1;33m\u001b[0m\u001b[0m\n\u001b[0m",
      "\u001b[1;31mTypeError\u001b[0m: crosstab() got multiple values for argument 'index'"
     ]
    }
   ],
   "source": [
    "xFile = pd.ExcelFile('data.xlsx')\n",
    "df = xFile.parse('data')\n",
    "dataArr = np.ones((len(IndCombined),len(ModesCat)))\n",
    "for i in range(len(df.index)):\n",
    "    freshVal = int(df.iloc[i]['Freshness'])\n",
    "    freshVal = freshVal * 10\n",
    "    tAirQual = ConvertAirQuality(int(df.iloc[i]['air-quality']),AirQualityCat)\n",
    "    tWeather = df.iloc[i]['weather']\n",
    "    tTraffic = df.iloc[i]['traffic']\n",
    "    tDayTime = df.iloc[i]['day-time']\n",
    "    tBikeLanes = df.iloc[i]['bike-lane']\n",
    "    tTemperature = ConvertTemperature(int(df.iloc[i]['temperature']),TemperatureCat)\n",
    "    tMode = df.iloc[i]['mode']\n",
    "    tModeIndex = ModesCat.index(tMode);\n",
    "    tAirQualIndex = tAirQual.index(1)\n",
    "    tWeatherIndex = IndCombined.index(tWeather)\n",
    "    tTrafficIndex = IndCombined.index(tTraffic)\n",
    "    tDayTimeIndex = IndCombined.index(tDayTime)\n",
    "    tBikeLanesIndex = IndCombined.index(tBikeLanes)\n",
    "    \n",
    "    dataArr[tAirQualIndex][tModeIndex] = freshVal + dataArr[tAirQualIndex][tModeIndex]\n",
    "    dataArr[tWeatherIndex][tModeIndex] = freshVal + dataArr[tWeatherIndex][tModeIndex]\n",
    "    dataArr[tTrafficIndex][tModeIndex] = freshVal + dataArr[tTrafficIndex][tModeIndex]\n",
    "    dataArr[tDayTimeIndex][tModeIndex] = freshVal + dataArr[tDayTimeIndex][tModeIndex]\n",
    "    dataArr[tBikeLanesIndex][tModeIndex] = freshVal + dataArr[tBikeLanesIndex][tModeIndex]\n",
    "    dataArr[-len(TemperatureCat) + tTemperature.index(1)][tModeIndex] = freshVal + dataArr[-len(TemperatureCat) + tTemperature.index(1)][tModeIndex]\n",
    "    \n",
    "vert = [];\n",
    "for i in range(len(IndCombined)):\n",
    "    vert.extend([[IndCombined[i]]])\n",
    "    \n",
    "print(vert)\n",
    "cr_tab = pd.crosstab(dataArr,index=vert,columns=ModesCat)\n"
   ]
  },
  {
   "cell_type": "code",
   "execution_count": 48,
   "metadata": {},
   "outputs": [
    {
     "data": {
      "text/plain": [
       "42"
      ]
     },
     "execution_count": 48,
     "metadata": {},
     "output_type": "execute_result"
    }
   ],
   "source": [
    "len(dataArr)"
   ]
  },
  {
   "cell_type": "code",
   "execution_count": null,
   "metadata": {},
   "outputs": [],
   "source": [
    "def ConvertTemperature(intValue,tempCategories):\n",
    "    outArr = [0]*len(tempCategories)\n",
    "    myVal = math.floor(intValue/len(tempCategories))\n",
    "    outArr[myVal] = 1\n",
    "    return outArr"
   ]
  },
  {
   "cell_type": "code",
   "execution_count": null,
   "metadata": {},
   "outputs": [],
   "source": [
    "ConvertTemperature(99,TemperatureCat)"
   ]
  },
  {
   "cell_type": "code",
   "execution_count": null,
   "metadata": {},
   "outputs": [],
   "source": [
    "def ConvertAirQuality(intValue,aqCategories):\n",
    "    outArr = [0]*len(aqCategories)\n",
    "    myVal = math.ceil((intValue / 2.5) - 1)\n",
    "    outArr[myVal] = 1\n",
    "    return outArr"
   ]
  },
  {
   "cell_type": "code",
   "execution_count": null,
   "metadata": {},
   "outputs": [],
   "source": [
    "ConvertAirQuality(6,AirQualityCat)"
   ]
  },
  {
   "cell_type": "code",
   "execution_count": null,
   "metadata": {},
   "outputs": [],
   "source": []
  }
 ],
 "metadata": {
  "kernelspec": {
   "display_name": "Python 3",
   "language": "python",
   "name": "python3"
  },
  "language_info": {
   "codemirror_mode": {
    "name": "ipython",
    "version": 3
   },
   "file_extension": ".py",
   "mimetype": "text/x-python",
   "name": "python",
   "nbconvert_exporter": "python",
   "pygments_lexer": "ipython3",
   "version": "3.5.3"
  }
 },
 "nbformat": 4,
 "nbformat_minor": 2
}
