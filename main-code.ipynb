{
 "cells": [
  {
   "cell_type": "code",
   "execution_count": 1,
   "metadata": {},
   "outputs": [
    {
     "name": "stderr",
     "output_type": "stream",
     "text": [
      "d:\\python-installed\\lib\\site-packages\\statsmodels\\compat\\pandas.py:56: FutureWarning: The pandas.core.datetools module is deprecated and will be removed in a future version. Please use the pandas.tseries module instead.\n",
      "  from pandas.core import datetools\n"
     ]
    }
   ],
   "source": [
    "import pandas as pd\n",
    "import numpy as np\n",
    "import random as rnd\n",
    "import matplotlib.pyplot as plt\n",
    "import scipy\n",
    "import math\n",
    "from scipy import stats\n",
    "stats.chisqprob = lambda chisq, df: stats.chi2.sf(chisq,df)\n",
    "import statsmodels.api as sm"
   ]
  },
  {
   "cell_type": "code",
   "execution_count": 2,
   "metadata": {},
   "outputs": [],
   "source": [
    "AirQualityCat = ['air-qual-good','air-qual-moderate','air-qual-unhealthy','air-qual-hazardous']\n",
    "WeatherCat = ['weather-rainy','weather-stormy','weather-sunny','weather-cloudy','weather-hot','weather-cold','weather-dry','weather-wet','weather-windy','weather-snow']\n",
    "TrafficCat = ['traffic-low','traffic-moderate','traffic-high','traffic-worse']\n",
    "DayPartCat = ['dt-early-morning','dt-morning','dt-noon','dt-afternoon','dt-night','dt-late-night']\n",
    "BikeLanesCat = ['bl-none','bl-partial','bl-full']\n",
    "TemperatureCat = ['t-0-10','t-10-14','t-14-18','t-18-21','t-21-25','t-25-30','t-30-40','t-40-60','t-60-80','t-80-100']\n",
    "ModesCat = ['mode-car','mode-transit','mode-bike','mode-mt-bike','mode-walk']"
   ]
  },
  {
   "cell_type": "code",
   "execution_count": 5,
   "metadata": {},
   "outputs": [],
   "source": [
    "CatCombined = []\n",
    "CatCombined.extend(AirQualityCat)\n",
    "CatCombined.extend(WeatherCat)\n",
    "CatCombined.extend(TrafficCat)\n",
    "CatCombined.extend(DayPartCat)\n",
    "CatCombined.extend(BikeLanesCat)\n",
    "CatCombined.extend(TemperatureCat)"
   ]
  },
  {
   "cell_type": "code",
   "execution_count": 17,
   "metadata": {},
   "outputs": [],
   "source": [
    "IndCombined = []\n",
    "IndCombined.extend(CatCombined)\n",
    "CatCombined.extend(ModesCat)"
   ]
  },
  {
   "cell_type": "code",
   "execution_count": 31,
   "metadata": {},
   "outputs": [],
   "source": [
    "\n",
    "def ConvertTemperature(intValue,tempCategories):\n",
    "    outArr = [0]*len(tempCategories)\n",
    "    myVal = math.floor(intValue/len(tempCategories) - 1)\n",
    "    outArr[myVal] = 1\n",
    "    return outArr\n",
    "\n",
    "def ConvertAirQuality(intValue,aqCategories):\n",
    "    outArr = [0]*len(aqCategories)\n",
    "    myVal = math.ceil((intValue / 2.5) - 1)\n",
    "    outArr[myVal] = 1\n",
    "    return outArr\n",
    "    "
   ]
  },
  {
   "cell_type": "code",
   "execution_count": 42,
   "metadata": {
    "scrolled": true
   },
   "outputs": [
    {
     "name": "stdout",
     "output_type": "stream",
     "text": [
      "[[3.010e+02 2.310e+02 3.410e+02 4.810e+02 5.010e+02]\n",
      " [6.810e+02 4.010e+02 6.010e+02 9.410e+02 4.210e+02]\n",
      " [4.810e+02 6.110e+02 4.810e+02 3.110e+02 8.410e+02]\n",
      " [7.610e+02 6.310e+02 1.051e+03 5.610e+02 8.410e+02]\n",
      " [5.010e+02 2.610e+02 2.510e+02 2.110e+02 1.810e+02]\n",
      " [3.410e+02 2.310e+02 4.310e+02 2.210e+02 3.210e+02]\n",
      " [3.310e+02 6.100e+01 6.100e+01 3.510e+02 2.610e+02]\n",
      " [4.310e+02 2.210e+02 2.010e+02 2.910e+02 5.110e+02]\n",
      " [1.410e+02 3.610e+02 3.310e+02 2.710e+02 5.010e+02]\n",
      " [1.810e+02 3.410e+02 3.110e+02 2.910e+02 1.810e+02]\n",
      " [1.110e+02 6.100e+01 4.910e+02 4.210e+02 3.010e+02]\n",
      " [1.910e+02 3.410e+02 4.010e+02 2.410e+02 3.510e+02]\n",
      " [1.000e+00 1.000e+00 1.000e+00 1.000e+00 1.000e+00]\n",
      " [1.000e+00 1.000e+00 1.000e+00 1.000e+00 1.000e+00]\n",
      " [5.810e+02 2.610e+02 6.210e+02 7.310e+02 1.211e+03]\n",
      " [5.210e+02 4.410e+02 6.210e+02 5.710e+02 2.310e+02]\n",
      " [5.210e+02 4.810e+02 3.910e+02 4.310e+02 3.810e+02]\n",
      " [6.010e+02 6.910e+02 8.410e+02 5.610e+02 7.810e+02]\n",
      " [3.410e+02 2.310e+02 4.910e+02 3.310e+02 2.210e+02]\n",
      " [3.610e+02 3.210e+02 5.910e+02 3.710e+02 5.710e+02]\n",
      " [3.710e+02 2.510e+02 1.810e+02 4.010e+02 4.510e+02]\n",
      " [4.210e+02 6.310e+02 2.710e+02 3.010e+02 5.210e+02]\n",
      " [4.310e+02 1.910e+02 3.510e+02 6.310e+02 3.110e+02]\n",
      " [3.010e+02 2.510e+02 5.910e+02 2.610e+02 5.310e+02]\n",
      " [7.610e+02 3.410e+02 8.510e+02 6.510e+02 6.010e+02]\n",
      " [8.510e+02 8.710e+02 7.810e+02 7.510e+02 9.710e+02]\n",
      " [6.110e+02 6.610e+02 8.410e+02 8.910e+02 1.031e+03]\n",
      " [1.000e+00 1.000e+00 1.000e+00 1.000e+00 1.000e+00]\n",
      " [1.000e+00 1.000e+00 1.000e+00 1.000e+00 1.000e+00]\n",
      " [1.000e+00 1.000e+00 1.000e+00 1.000e+00 1.000e+00]\n",
      " [1.000e+00 1.000e+00 1.000e+00 1.000e+00 1.000e+00]\n",
      " [1.000e+00 1.000e+00 1.000e+00 1.000e+00 1.000e+00]\n",
      " [1.000e+00 1.000e+00 1.000e+00 1.000e+00 1.000e+00]\n",
      " [1.000e+00 1.000e+00 1.000e+00 1.000e+00 1.000e+00]\n",
      " [1.000e+00 1.000e+00 1.000e+00 1.000e+00 1.000e+00]\n",
      " [1.000e+00 1.000e+00 1.000e+00 1.000e+00 1.000e+00]\n",
      " [1.000e+00 1.000e+00 1.000e+00 1.000e+00 1.000e+00]\n",
      " [1.000e+00 1.000e+00 1.000e+00 1.000e+00 1.000e+00]\n",
      " [1.000e+00 1.000e+00 1.000e+00 1.000e+00 1.000e+00]\n",
      " [1.000e+00 1.000e+00 1.000e+00 1.000e+00 1.000e+00]\n",
      " [1.000e+00 1.000e+00 1.000e+00 1.000e+00 1.000e+00]\n",
      " [1.000e+00 1.000e+00 1.000e+00 1.000e+00 1.000e+00]]\n"
     ]
    }
   ],
   "source": [
    "xFile = pd.ExcelFile('data.xlsx')\n",
    "df = xFile.parse('data')\n",
    "dataArr = np.ones((len(IndCombined),len(ModesCat)))\n",
    "for i in range(len(df.index)):\n",
    "    freshVal = int(df.iloc[i]['Freshness'])\n",
    "    freshVal = freshVal * 10\n",
    "    tAirQual = ConvertAirQuality(int(df.iloc[i]['air-quality']),AirQualityCat)\n",
    "    tWeather = df.iloc[i]['weather']\n",
    "    tTraffic = df.iloc[i]['traffic']\n",
    "    tDayTime = df.iloc[i]['day-time']\n",
    "    tBikeLanes = df.iloc[i]['bike-lane']\n",
    "    tTemperature = ConvertTemperature(int(df.iloc[i]['temperature']),TemperatureCat)\n",
    "    tMode = df.iloc[i]['mode']\n",
    "    tModeIndex = ModesCat.index(tMode);\n",
    "    tAirQualIndex = tAirQual.index(1)\n",
    "    tWeatherIndex = IndCombined.index(tWeather)\n",
    "    tTrafficIndex = IndCombined.index(tTraffic)\n",
    "    tDayTimeIndex = IndCombined.index(tDayTime)\n",
    "    tBikeLanesIndex = IndCombined.index(tBikeLanes)\n",
    "    \n",
    "    dataArr[tAirQualIndex][tModeIndex] = freshVal + dataArr[tAirQualIndex][tModeIndex]\n",
    "    dataArr[tWeatherIndex][tModeIndex] = freshVal + dataArr[tWeatherIndex][tModeIndex]\n",
    "    dataArr[tTrafficIndex][tModeIndex] = freshVal + dataArr[tTrafficIndex][tModeIndex]\n",
    "    dataArr[tDayTimeIndex][tModeIndex] = freshVal + dataArr[tDayTimeIndex][tModeIndex]\n",
    "    dataArr[tBikeLanesIndex][tModeIndex] = freshVal + dataArr[tBikeLanesIndex][tModeIndex]\n",
    "    \n",
    "\n",
    "print(dataArr)\n"
   ]
  },
  {
   "cell_type": "code",
   "execution_count": null,
   "metadata": {},
   "outputs": [],
   "source": [
    "def ConvertTemperature(intValue,tempCategories):\n",
    "    outArr = [0]*len(tempCategories)\n",
    "    myVal = math.floor(intValue/len(tempCategories))\n",
    "    outArr[myVal] = 1\n",
    "    return outArr"
   ]
  },
  {
   "cell_type": "code",
   "execution_count": null,
   "metadata": {},
   "outputs": [],
   "source": [
    "ConvertTemperature(99,TemperatureCat)"
   ]
  },
  {
   "cell_type": "code",
   "execution_count": null,
   "metadata": {},
   "outputs": [],
   "source": [
    "def ConvertAirQuality(intValue,aqCategories):\n",
    "    outArr = [0]*len(aqCategories)\n",
    "    myVal = math.ceil((intValue / 2.5) - 1)\n",
    "    outArr[myVal] = 1\n",
    "    return outArr"
   ]
  },
  {
   "cell_type": "code",
   "execution_count": null,
   "metadata": {},
   "outputs": [],
   "source": [
    "ConvertAirQuality(6,AirQualityCat)"
   ]
  },
  {
   "cell_type": "code",
   "execution_count": null,
   "metadata": {},
   "outputs": [],
   "source": []
  }
 ],
 "metadata": {
  "kernelspec": {
   "display_name": "Python 3",
   "language": "python",
   "name": "python3"
  },
  "language_info": {
   "codemirror_mode": {
    "name": "ipython",
    "version": 3
   },
   "file_extension": ".py",
   "mimetype": "text/x-python",
   "name": "python",
   "nbconvert_exporter": "python",
   "pygments_lexer": "ipython3",
   "version": "3.5.3"
  }
 },
 "nbformat": 4,
 "nbformat_minor": 2
}
